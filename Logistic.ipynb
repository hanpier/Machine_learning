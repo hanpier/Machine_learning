{
 "cells": [
  {
   "cell_type": "code",
   "execution_count": 1,
   "metadata": {},
   "outputs": [],
   "source": [
    "import numpy as np\n",
    "import matplotlib.pyplot as plt"
   ]
  },
  {
   "cell_type": "code",
   "execution_count": 2,
   "metadata": {},
   "outputs": [],
   "source": [
    "class LogisticRegression:\n",
    "    def __init__(self, lr=0.01, num_iter=200, fit_intercept=True):\n",
    "        self.lr = lr\n",
    "        self.num_iter = num_iter\n",
    "        self.fit_intercept = fit_intercept\n",
    "    \n",
    "    def add_intercept(self, X):\n",
    "        intercept = np.ones((X.shape[0], 1))\n",
    "        return np.concatenate((intercept, X), axis=1)\n",
    "    \n",
    "    def sigmoid(self, z):\n",
    "        return 1 / (1 + np.exp(-z))\n",
    "    \n",
    "    def cost(self, h, y):\n",
    "        # return (-y * np.log(h) - (1 - y) * np.log(1 - h)).mean()\n",
    "        return (-y * np.log(h + 1e-9) - (1 - y) * np.log(1 - h + 1e-9))\n",
    "\n",
    "    def fit(self, X, y):\n",
    "        if self.fit_intercept:\n",
    "            X = self.add_intercept(X)\n",
    "        \n",
    "        # self.weights = np.zeros(X.shape[1])\n",
    "        self.weights = np.random.randn(X.shape[1])\n",
    "        for i in range(self.num_iter):\n",
    "            z = np.dot(X, self.weights)\n",
    "            #\n",
    "            h = self.sigmoid(z)\n",
    "            gradient = np.dot(X.T, (h - y)) \n",
    "            self.weights -= self.lr * gradient\n",
    "            \n",
    "            if i % 100 == 0:\n",
    "                z = np.dot(X, self.weights)\n",
    "                h = self.sigmoid(z)\n",
    "#                 print(f'loss: {self.cost(h, y)} \\t')\n",
    "                print(f'weights: {self.weights} \\t')\n",
    "        \n",
    "        print('LogisticRegression Model(learning_rate={},num_iter={})'.format(self.lr, self.num_iter))\n",
    "    \n",
    "    def predict_prob(self, X):\n",
    "        if self.fit_intercept:\n",
    "            X = self.add_intercept(X)\n",
    "    \n",
    "        return self.sigmoid(np.dot(X, self.weights))\n",
    "    \n",
    "    def predict(self, X, threshold=0.5):\n",
    "        return self.predict_prob(X) >= threshold\n",
    "    \n",
    "    def accuracy_score(self, y, y_pred):\n",
    "        accuracy = np.mean(y_pred == y)\n",
    "        return accuracy\n",
    "    \n",
    "    def score(self, X, y):\n",
    "        y_pred = self.predict(X)\n",
    "        accuracy = self.accuracy_score(y, y_pred)\n",
    "        return accuracy"
   ]
  },
  {
   "cell_type": "code",
   "execution_count": 3,
   "metadata": {},
   "outputs": [
    {
     "name": "stdout",
     "output_type": "stream",
     "text": [
      "weights: [-0.57961417  1.06761695  0.16760367] \t\n",
      "weights: [-5.21253154  1.15562361  1.09642658] \t\n",
      "LogisticRegression Model(learning_rate=0.01,num_iter=200)\n",
      "score:1.0 \t\n"
     ]
    },
    {
     "data": {
      "image/png": "[encoded data removed]",
      "text/plain": [
       "<Figure size 432x288 with 1 Axes>"
      ]
     },
     "metadata": {
      "needs_background": "light"
     },
     "output_type": "display_data"
    }
   ],
   "source": [
    "# 数据\n",
    "mean1 = [0, 0]\n",
    "cov1 = [[1, 0], [0, 1]]\n",
    "mean2 = [5, 5]\n",
    "cov2 = [[1, 0], [0, 1]]\n",
    "size = 100\n",
    "x1 = np.random.multivariate_normal(mean1, cov1, size)\n",
    "x2 = np.random.multivariate_normal(mean2, cov2, size)\n",
    "\n",
    "X = np.concatenate((x1, x2), axis=0)\n",
    "# print(f'x.shape:{X.shape}')\n",
    "y = np.concatenate((np.zeros(size), np.ones(size)))\n",
    "# print(f'y.shape:{y.shape}')\n",
    "# plot data\n",
    "plt.scatter(x1[:,0], x1[:,1], color='red', marker='o', label='class 1')\n",
    "plt.scatter(x2[:,0], x2[:,1], color='blue', marker='x', label='class 2')\n",
    "plt.xlabel('x1')\n",
    "plt.ylabel('x2')\n",
    "plt.legend(loc='best')\n",
    "# 训练模型\n",
    "clf = LogisticRegression()\n",
    "clf.fit(X, y)\n",
    "\n",
    "# 计算正确率\n",
    "score = clf.score(X, y)\n",
    "print(f'score:{score} \\t')\n",
    "\n",
    "# 画出决策边界\n",
    "w = clf.weights\n",
    "x1 = np.linspace(-5, 9, 2)\n",
    "x2 = -(w[0] + w[1] * x1) / w[2]\n",
    "plt.plot(x1, x2, 'g')\n",
    "plt.show()"
   ]
  },
  {
   "cell_type": "code",
   "execution_count": 4,
   "metadata": {
    "scrolled": true
   },
   "outputs": [],
   "source": [
    "# from sklearn.datasets import load_iris\n",
    "# from sklearn.model_selection import train_test_split\n",
    "# # from sklearn.metrics import accuracy_score\n",
    "\n",
    "# # iris数据集\n",
    "# iris = load_iris()\n",
    "# X = iris[\"data\"]\n",
    "# y = iris[\"target\"]\n",
    "\n",
    "# # 将数据集分为训练集和测试集\n",
    "# X_train, X_test, y_train, y_test = train_test_split(X, y, test_size=0.2, random_state=0)\n",
    "# print(f'X_train.shape:{X_train.shape}')\n",
    "# # 训练模型\n",
    "# clfs = LogisticRegression(lr=0.01, num_iter=1)\n",
    "# clfs.fit(X_train, y_train)\n",
    "# print(f'X_train.shape:{X_train.shape}')\n",
    "# # 预测测试集\n",
    "# y_pred = clfs.predict(X_test)\n",
    "# # 计算正确率\n",
    "# accuracy = clfs.score(X_test, y_test)\n",
    "# print(\"Accuracy:\", accuracy)\n",
    "\n",
    "# print(X_train[0])\n",
    "# print(y_train[0])"
   ]
  },
  {
   "cell_type": "code",
   "execution_count": 6,
   "metadata": {},
   "outputs": [
    {
     "name": "stdout",
     "output_type": "stream",
     "text": [
      "Accuracy: 1.0\n"
     ]
    }
   ],
   "source": [
    "from sklearn.datasets import load_iris\n",
    "from sklearn.linear_model import LogisticRegression\n",
    "from sklearn.model_selection import train_test_split\n",
    "\n",
    "# iris数据集\n",
    "iris = load_iris()\n",
    "X = iris.data\n",
    "y = iris.target\n",
    "\n",
    "# 数据集分为训练集和测试集\n",
    "X_train, X_test, y_train, y_test = train_test_split(X, y, test_size=0.2)\n",
    "\n",
    "# 训练模型\n",
    "clfss = LogisticRegression()\n",
    "clfss.fit(X_train, y_train)\n",
    "\n",
    "# 预测测试集\n",
    "y_pred = clfss.predict(X_test)\n",
    "\n",
    "# 计算正确率\n",
    "accuracy = clfss.score(X_test, y_pred)\n",
    "print(\"Accuracy:\", accuracy)"
   ]
  },
  {
   "cell_type": "code",
   "execution_count": null,
   "metadata": {},
   "outputs": [],
   "source": []
  }
 ],
 "metadata": {
  "kernelspec": {
   "display_name": "Python 3",
   "language": "python",
   "name": "python3"
  },
  "language_info": {
   "codemirror_mode": {
    "name": "ipython",
    "version": 3
   },
   "file_extension": ".py",
   "mimetype": "text/x-python",
   "name": "python",
   "nbconvert_exporter": "python",
   "pygments_lexer": "ipython3",
   "version": "3.8.5"
  }
 },
 "nbformat": 4,
 "nbformat_minor": 4
}
